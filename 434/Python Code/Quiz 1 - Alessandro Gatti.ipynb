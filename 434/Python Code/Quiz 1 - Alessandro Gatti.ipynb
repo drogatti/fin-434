{
 "cells": [
  {
   "cell_type": "code",
   "execution_count": 11,
   "id": "800e926e-273d-47a2-bff1-5966c10ac54d",
   "metadata": {},
   "outputs": [],
   "source": [
    "import pandas as pd"
   ]
  },
  {
   "cell_type": "code",
   "execution_count": 12,
   "id": "1585d52f-2050-4a40-b6e1-b16754e9a280",
   "metadata": {},
   "outputs": [],
   "source": [
    "cmg = pd.read_csv('Data/CMG.csv')"
   ]
  },
  {
   "cell_type": "code",
   "execution_count": 13,
   "id": "49d7cfbb-48ea-4e66-a83c-086a5a351748",
   "metadata": {},
   "outputs": [
    {
     "name": "stdout",
     "output_type": "stream",
     "text": [
      "1106.9804958922778\n"
     ]
    }
   ],
   "source": [
    "mean_PRC = cmg['PRC'].mean()\n",
    "print(mean_PRC)"
   ]
  },
  {
   "cell_type": "code",
   "execution_count": 14,
   "id": "d831562c-f2a8-43a6-b8bc-a84989e6af20",
   "metadata": {},
   "outputs": [
    {
     "name": "stdout",
     "output_type": "stream",
     "text": [
      "0.04431224088112266\n"
     ]
    }
   ],
   "source": [
    "std_RET = cmg['RET'].std()\n",
    "print(std_RET)"
   ]
  }
 ],
 "metadata": {
  "kernelspec": {
   "display_name": "Python 3 (ipykernel)",
   "language": "python",
   "name": "python3"
  },
  "language_info": {
   "codemirror_mode": {
    "name": "ipython",
    "version": 3
   },
   "file_extension": ".py",
   "mimetype": "text/x-python",
   "name": "python",
   "nbconvert_exporter": "python",
   "pygments_lexer": "ipython3",
   "version": "3.12.1"
  }
 },
 "nbformat": 4,
 "nbformat_minor": 5
}
