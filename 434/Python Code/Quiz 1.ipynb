{
 "cells": [
  {
   "cell_type": "code",
   "execution_count": 17,
   "id": "937e98e3-34d0-414e-bb73-158667b5ae6d",
   "metadata": {},
   "outputs": [],
   "source": [
    "import pandas as pd"
   ]
  },
  {
   "cell_type": "code",
   "execution_count": 18,
   "id": "694444cb-c244-4c9a-afba-f6938afc872b",
   "metadata": {},
   "outputs": [],
   "source": [
    "cmg = pd.read_csv(\"Data/CMG.csv\")"
   ]
  },
  {
   "cell_type": "code",
   "execution_count": 19,
   "id": "c772be50-ec1c-46bb-b680-793f81e77828",
   "metadata": {},
   "outputs": [
    {
     "name": "stdout",
     "output_type": "stream",
     "text": [
      "1106.9804958922778\n"
     ]
    }
   ],
   "source": [
    "mean_PRC = cmg[\"PRC\"].mean()\n",
    "print(mean_PRC)"
   ]
  },
  {
   "cell_type": "code",
   "execution_count": 20,
   "id": "e940b25b-666f-4a2e-97da-28319563052d",
   "metadata": {},
   "outputs": [
    {
     "name": "stdout",
     "output_type": "stream",
     "text": [
      "665.6017865545579\n"
     ]
    }
   ],
   "source": [
    "std_PRC = cmg[\"PRC\"].std()\n",
    "print(std_PRC)"
   ]
  }
 ],
 "metadata": {
  "kernelspec": {
   "display_name": "Python 3 (ipykernel)",
   "language": "python",
   "name": "python3"
  },
  "language_info": {
   "codemirror_mode": {
    "name": "ipython",
    "version": 3
   },
   "file_extension": ".py",
   "mimetype": "text/x-python",
   "name": "python",
   "nbconvert_exporter": "python",
   "pygments_lexer": "ipython3",
   "version": "3.12.1"
  }
 },
 "nbformat": 4,
 "nbformat_minor": 5
}
