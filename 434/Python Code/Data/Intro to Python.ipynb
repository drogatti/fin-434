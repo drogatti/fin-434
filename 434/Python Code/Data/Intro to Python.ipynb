{
 "cells": [
  {
   "cell_type": "code",
   "execution_count": 23,
   "id": "a444ebfe-9e41-4711-9444-afbc902be85d",
   "metadata": {},
   "outputs": [],
   "source": [
    "#Learn about pip install in Jupyter"
   ]
  },
  {
   "cell_type": "code",
   "execution_count": 24,
   "id": "d503a546-3b90-42cc-ae3e-dcd5c86a582c",
   "metadata": {},
   "outputs": [],
   "source": [
    "import pandas as pd"
   ]
  },
  {
   "cell_type": "code",
   "execution_count": 25,
   "id": "6de35827-3d5f-4375-874c-a29cda5713ed",
   "metadata": {},
   "outputs": [],
   "source": [
    "wmt = pd.read_csv('WMT.csv')\n",
    "trex = pd.read_csv('TREX.csv')"
   ]
  },
  {
   "cell_type": "code",
   "execution_count": null,
   "id": "4e365153-f944-453c-941c-f92af47f9814",
   "metadata": {},
   "outputs": [],
   "source": []
  },
  {
   "cell_type": "code",
   "execution_count": null,
   "id": "0eb2a88e-80df-4214-a8d1-488eeed3ba92",
   "metadata": {},
   "outputs": [],
   "source": []
  },
  {
   "cell_type": "code",
   "execution_count": 26,
   "id": "bbb9c65c-1a6a-40e8-9048-9913a9956536",
   "metadata": {},
   "outputs": [],
   "source": [
    "df = pd.merge(wmt, trex, how='left', left_on='Date', right_on='Date', suffixes = (\"_wmt\",\"_trex\"))"
   ]
  },
  {
   "cell_type": "code",
   "execution_count": 27,
   "id": "c8b46ef3-c1b0-454f-8609-4e6dd5b92a4e",
   "metadata": {},
   "outputs": [
    {
     "data": {
      "text/plain": [
       "Date          object\n",
       "Open         float64\n",
       "High         float64\n",
       "Low          float64\n",
       "Close        float64\n",
       "Adj Close    float64\n",
       "Volume         int64\n",
       "dtype: object"
      ]
     },
     "execution_count": 27,
     "metadata": {},
     "output_type": "execute_result"
    }
   ],
   "source": [
    "wmt.dtypes"
   ]
  },
  {
   "cell_type": "code",
   "execution_count": null,
   "id": "58f903d9-4409-419d-9f65-c69b745113e8",
   "metadata": {},
   "outputs": [],
   "source": []
  }
 ],
 "metadata": {
  "kernelspec": {
   "display_name": "Python 3 (ipykernel)",
   "language": "python",
   "name": "python3"
  },
  "language_info": {
   "codemirror_mode": {
    "name": "ipython",
    "version": 3
   },
   "file_extension": ".py",
   "mimetype": "text/x-python",
   "name": "python",
   "nbconvert_exporter": "python",
   "pygments_lexer": "ipython3",
   "version": "3.12.1"
  }
 },
 "nbformat": 4,
 "nbformat_minor": 5
}
