{
 "cells": [
  {
   "cell_type": "code",
   "execution_count": 47,
   "id": "069b10d1-85d3-492a-98e5-1000ea398f0c",
   "metadata": {},
   "outputs": [],
   "source": [
    "#import modules\n",
    "import pandas as pd\n",
    "import pandas_datareader as web\n",
    "from pandas_datareader import data as pdr\n",
    "import yfinance as yf\n",
    "import numpy as np\n",
    "import matplotlib.pyplot as plt\n",
    "import statistics as st\n",
    "from scipy.stats import mstats\n",
    "from scipy import stats\n",
    "import seaborn as sns\n",
    "from statsmodels.formula.api import ols\n",
    "import pingouin as pg\n",
    "import schedule\n",
    "import time\n",
    "import requests\n",
    "#import talib"
   ]
  },
  {
   "cell_type": "markdown",
   "id": "fbc5c99f-2a97-49de-b106-a9ccb87ee9f0",
   "metadata": {},
   "source": [
    "### Remotely collect Yahoo data"
   ]
  },
  {
   "cell_type": "code",
   "execution_count": 39,
   "id": "05e0f136-7943-4cc7-8f15-734975425f1d",
   "metadata": {},
   "outputs": [],
   "source": [
    "def collect_stock_data(ticker, start_date, end_date):\n",
    "    \"\"\"\n",
    "    Collect historical stock data for a given ticker and time range.\n",
    "\n",
    "    Parameters:\n",
    "        ticker (str): Stock ticker symbol (e.g., 'AAPL')\n",
    "        start_date (str): Start date in 'YYYY-MM-DD' format\n",
    "        end_date (str): End date in 'YYYY-MM-DD' format\n",
    "\n",
    "    Returns:\n",
    "        pd.DataFrame: Historical stock data\n",
    "    \"\"\"\n",
    "    # Fetch the stock data from Yahoo Finance\n",
    "    yf.pdr_override()\n",
    "    stock_data = pdr.get_data_yahoo(ticker, start=start_date, end=end_date)\n",
    "    stock_data = stock_data.reset_index()\n",
    "\n",
    "    # Return the data\n",
    "    return stock_data\n",
    "\n"
   ]
  },
  {
   "cell_type": "markdown",
   "id": "16f87b9f-1656-46a0-aad6-4ce813f08961",
   "metadata": {},
   "source": [
    "### Visualize and Inspect Data"
   ]
  },
  {
   "cell_type": "code",
   "execution_count": 40,
   "id": "11dfcba2-66c9-4d41-9869-9e14d6312eae",
   "metadata": {},
   "outputs": [],
   "source": [
    "def inspect_stock_data(stock_data):\n",
    "    \"\"\"\n",
    "    Inspect and visualize the collected stock data.\n",
    "\n",
    "    Parameters:\n",
    "        stock_data (pd.DataFrame): Historical stock data to inspect\n",
    "    \"\"\"\n",
    "    # Check for missing values\n",
    "    print(\"Missing values:\\n\", stock_data.isnull().sum())\n",
    "\n",
    "    # Display basic statistics\n",
    "    print(\"Summary statistics:\\n\", stock_data.describe())\n",
    "\n",
    "    # Plot the closing price over time\n",
    "    plt.figure(figsize=(10, 5))\n",
    "    plt.plot(stock_data['Close'], label='Closing Price')\n",
    "    plt.title(\"Closing Price Over Time\")\n",
    "    plt.xlabel(\"Date\")\n",
    "    plt.ylabel(\"Price (USD)\")\n",
    "    plt.legend()\n",
    "    plt.show()"
   ]
  },
  {
   "cell_type": "markdown",
   "id": "a0b2d37f-69ee-4756-aab9-a268fcbece6d",
   "metadata": {},
   "source": [
    "### Handle Missing Data"
   ]
  },
  {
   "cell_type": "code",
   "execution_count": 41,
   "id": "06956e91-eafd-459d-99c3-c44748c43388",
   "metadata": {},
   "outputs": [],
   "source": [
    "def clean_stock_data(stock_data):\n",
    "    \"\"\"\n",
    "    Clean the stock data by handling missing values, outliers, and standardizing formats.\n",
    "\n",
    "    Parameters:\n",
    "        stock_data (pd.DataFrame): Historical stock data to clean\n",
    "\n",
    "    Returns:\n",
    "        pd.DataFrame: Cleaned stock data\n",
    "    \"\"\"\n",
    "    # Step 1: Handle Missing Values\n",
    "    # Forward fill or backward fill missing data\n",
    "    stock_data.fillna(method='ffill', inplace=True)\n",
    "    stock_data.fillna(method='bfill', inplace=True)\n",
    "\n",
    "    # Step 2: Handle Outliers (Optional)\n",
    "    # Define thresholds for outliers (for example, extreme price fluctuations)\n",
    "    # You can set a threshold based on z-scores or percentage changes between rows.\n",
    "    z_scores = (stock_data['Close'] - stock_data['Close'].mean()) / stock_data['Close'].std()\n",
    "    \n",
    "    # Removing outliers with z-scores greater than 3 or less than -3 (adjust based on your strategy)\n",
    "    stock_data = stock_data[(np.abs(z_scores) < 3)]\n",
    "\n",
    "    # Step 3: Standardize Date/Time Format\n",
    "    # Ensure the index is in the correct datetime format\n",
    "    stock_data.index = pd.to_datetime(stock_data.index)\n",
    "\n",
    "    # Step 4: Drop duplicates if any (ensure no duplicated dates)\n",
    "    stock_data = stock_data.loc[~stock_data.index.duplicated(keep='first')]\n",
    "\n",
    "    print(\"Data after cleaning:\\n\", stock_data.head())\n",
    "    \n",
    "    return stock_data"
   ]
  },
  {
   "cell_type": "markdown",
   "id": "7efcc282-4c6d-414b-8695-8728029a2b01",
   "metadata": {},
   "source": [
    "### Save Data for Future Use"
   ]
  },
  {
   "cell_type": "code",
   "execution_count": 42,
   "id": "753233b0-f8c1-4b8b-aac4-e42fe032a560",
   "metadata": {},
   "outputs": [],
   "source": [
    "def save_stock_data(stock_data, ticker):\n",
    "    \"\"\"\n",
    "    Save the stock data to a CSV file.\n",
    "\n",
    "    Parameters:\n",
    "        stock_data (pd.DataFrame): Historical stock data\n",
    "        ticker (str): Stock ticker symbol to use in the filename\n",
    "    \"\"\"\n",
    "    # Save to CSV\n",
    "    file_name = f\"Data/{ticker}_historical_data.csv\"\n",
    "    stock_data.to_csv(file_name)\n",
    "    print(f\"Data saved to {file_name}\")"
   ]
  },
  {
   "cell_type": "markdown",
   "id": "a8bc3da9-7bd6-4ea2-8c3d-e7a16e90a61b",
   "metadata": {},
   "source": [
    "### Main Function"
   ]
  },
  {
   "cell_type": "code",
   "execution_count": 43,
   "id": "50153658-8725-4173-afd4-c4ecacb63e52",
   "metadata": {},
   "outputs": [
    {
     "name": "stderr",
     "output_type": "stream",
     "text": [
      "C:\\Users\\aless\\AppData\\Local\\Programs\\Python\\Python312\\Lib\\site-packages\\yfinance\\utils.py:775: FutureWarning: The 'unit' keyword in TimedeltaIndex construction is deprecated and will be removed in a future version. Use pd.to_timedelta instead.\n",
      "  df.index += _pd.TimedeltaIndex(dst_error_hours, 'h')\n",
      "[*********************100%%**********************]  1 of 1 completed"
     ]
    },
    {
     "name": "stdout",
     "output_type": "stream",
     "text": [
      "Missing values:\n",
      " Date         0\n",
      "Open         0\n",
      "High         0\n",
      "Low          0\n",
      "Close        0\n",
      "Adj Close    0\n",
      "Volume       0\n",
      "dtype: int64\n",
      "Summary statistics:\n",
      "                                 Date         Open         High          Low  \\\n",
      "count                           1259  1259.000000  1259.000000  1259.000000   \n",
      "mean   2020-07-02 03:21:18.157267712    98.028503    99.217804    96.881497   \n",
      "min              2018-01-02 00:00:00    35.994999    36.430000    35.500000   \n",
      "25%              2019-04-03 12:00:00    50.956249    51.448750    50.573750   \n",
      "50%              2020-07-02 00:00:00    91.279999    92.970001    90.910004   \n",
      "75%              2021-09-30 12:00:00   142.760002   144.474998   141.004997   \n",
      "max              2022-12-30 00:00:00   182.630005   182.940002   179.119995   \n",
      "std                              NaN    46.302471    46.894754    45.688159   \n",
      "\n",
      "             Close    Adj Close        Volume  \n",
      "count  1259.000000  1259.000000  1.259000e+03  \n",
      "mean     98.092897    95.913522  1.168806e+08  \n",
      "min      35.547501    33.989899  3.519590e+07  \n",
      "25%      51.022501    49.046959  8.014245e+07  \n",
      "50%      91.632500    89.386215  1.023002e+08  \n",
      "75%     142.864998   140.842407  1.372052e+08  \n",
      "max     182.009995   179.273590  4.265100e+08  \n",
      "std      46.309891    46.240692  5.504461e+07  \n"
     ]
    },
    {
     "name": "stderr",
     "output_type": "stream",
     "text": [
      "\n"
     ]
    },
    {
     "data": {
      "image/png": "[encoded data removed]",
      "text/plain": [
       "<Figure size 1000x500 with 1 Axes>"
      ]
     },
     "metadata": {},
     "output_type": "display_data"
    },
    {
     "name": "stdout",
     "output_type": "stream",
     "text": [
      "Data after cleaning:\n",
      "                                     Date       Open       High        Low  \\\n",
      "1970-01-01 00:00:00.000000000 2018-01-02  42.540001  43.075001  42.314999   \n",
      "1970-01-01 00:00:00.000000001 2018-01-03  43.132500  43.637501  42.990002   \n",
      "1970-01-01 00:00:00.000000002 2018-01-04  43.134998  43.367500  43.020000   \n",
      "1970-01-01 00:00:00.000000003 2018-01-05  43.360001  43.842499  43.262501   \n",
      "1970-01-01 00:00:00.000000004 2018-01-08  43.587502  43.902500  43.482498   \n",
      "\n",
      "                                   Close  Adj Close     Volume  \n",
      "1970-01-01 00:00:00.000000000  43.064999  40.568932  102223600  \n",
      "1970-01-01 00:00:00.000000001  43.057499  40.561863  118071600  \n",
      "1970-01-01 00:00:00.000000002  43.257500  40.750271   89738400  \n",
      "1970-01-01 00:00:00.000000003  43.750000  41.214241   94640000  \n",
      "1970-01-01 00:00:00.000000004  43.587502  41.061150   82271200  \n",
      "Data saved to Data/AAPL_historical_data.csv\n"
     ]
    },
    {
     "name": "stderr",
     "output_type": "stream",
     "text": [
      "C:\\Users\\aless\\AppData\\Local\\Temp\\ipykernel_11520\\954346394.py:13: FutureWarning: DataFrame.fillna with 'method' is deprecated and will raise in a future version. Use obj.ffill() or obj.bfill() instead.\n",
      "  stock_data.fillna(method='ffill', inplace=True)\n",
      "C:\\Users\\aless\\AppData\\Local\\Temp\\ipykernel_11520\\954346394.py:14: FutureWarning: DataFrame.fillna with 'method' is deprecated and will raise in a future version. Use obj.ffill() or obj.bfill() instead.\n",
      "  stock_data.fillna(method='bfill', inplace=True)\n"
     ]
    }
   ],
   "source": [
    "def main():\n",
    "    # Parameters for data collection\n",
    "    ticker = 'AAPL'  # Apple Inc.\n",
    "    start_date = '2018-01-01'  # Start date (5 years of data)\n",
    "    end_date = '2023-01-01'    # End date\n",
    "\n",
    "    # Step 2: Collect stock data\n",
    "    stock_data = collect_stock_data(ticker, start_date, end_date)\n",
    "\n",
    "    # Step 3: Inspect stock data\n",
    "    inspect_stock_data(stock_data)\n",
    "\n",
    "    # Step 4: Clean stock data\n",
    "    cleaned_data = clean_stock_data(stock_data)\n",
    "\n",
    "    # Step 5: Save the cleaned data\n",
    "    save_stock_data(cleaned_data, ticker)\n",
    "\n",
    "# Run the main function\n",
    "if __name__ == \"__main__\":\n",
    "    main()"
   ]
  },
  {
   "cell_type": "markdown",
   "id": "31e056d1-8434-4fc2-b72e-064b6e90a1c2",
   "metadata": {},
   "source": [
    "### Visualize and Compute Technical Indicators"
   ]
  },
  {
   "cell_type": "code",
   "execution_count": 44,
   "id": "6757b682-eede-4c68-955d-b49da4331b40",
   "metadata": {},
   "outputs": [],
   "source": [
    "def inspect_and_analyze_data(stock_data):\n",
    "    \"\"\"\n",
    "    Inspect and analyze the stock data by visualizing price trends and computing technical indicators.\n",
    "\n",
    "    Parameters:\n",
    "        stock_data (pd.DataFrame): Historical stock data to inspect and analyze\n",
    "    \"\"\"\n",
    "\n",
    "    # Calculate SMAs\n",
    "    stock_data['MA50'] = stock_data['Close'].rolling(window=50).mean()\n",
    "    stock_data['MA200'] = stock_data['Close'].rolling(window=200).mean()\n",
    "    \n",
    "    # Step 2: Calculate and Plot Moving Averages (MA)\n",
    "    stock_data['EMA20'] = talib.EMA(stock_data['Close'], timeperiod=20)\n",
    "    stock_data['EMA50'] = talib.EMA(stock_data['Close'], timeperiod=50)\n",
    "    \n",
    "    # Step 3: Calculate and Plot Bollinger Bands (Volatility)\n",
    "    stock_data['BB_upper'], stock_data['BB_middle'], stock_data['BB_lower'] = talib.BBANDS(\n",
    "        stock_data['Close'], timeperiod=20, nbdevup=2, nbdevdn=2)\n",
    "    \n",
    "    # Step 4: Calculate and Plot Relative Strength Index (RSI)\n",
    "    stock_data['RSI'] = talib.RSI(stock_data['Close'], timeperiod=14)\n",
    "    \n",
    "    # Add Stochastic Oscillator\n",
    "    stock_data['slowk'], stock_data['slowd'] = talib.STOCH(\n",
    "    stock_data['High'], stock_data['Low'], stock_data['Close'], fastk_period=14, slowk_period=3, slowd_period=3)\n",
    "\n",
    "    # Step 5: Calculate and Plot Moving Average Convergence Divergence (MACD)\n",
    "    macd, macdsignal, macdhist = talib.MACD(stock_data['Close'], fastperiod=12, slowperiod=26, signalperiod=9)\n",
    "    stock_data['MACD_Hist'] = macdhist\n",
    "    \n",
    "    # ATR\n",
    "    stock_data['ATR'] = talib.ATR(stock_data['High'], stock_data['Low'], stock_data['Close'], timeperiod=14)\n",
    "\n",
    "    # ADX\n",
    "    stock_data['ADX'] = talib.ADX(stock_data['High'], stock_data['Low'], stock_data['Close'], timeperiod=14)\n",
    "\n",
    "    # OBV (On-Balance Volume)\n",
    "    stock_data['OBV'] = talib.OBV(stock_data['Close'], stock_data['Volume'])\n",
    "\n",
    "    # Chaikin Money Flow (CMF)\n",
    "    stock_data['CMF'] = ((stock_data['Close'] - stock_data['Low']) - (stock_data['High'] - stock_data['Close'])) / (stock_data['High'] - stock_data['Low']) * stock_data['Volume']\n",
    "    stock_data['CMF'] = stock_data['CMF'].rolling(window=20).mean()\n",
    "    \n",
    "    # Step 6: Inspect basic statistics\n",
    "    print(\"Basic Statistics of Stock Data:\\n\", stock_data.describe())"
   ]
  },
  {
   "cell_type": "code",
   "execution_count": 45,
   "id": "b4ec8d17-15ca-4194-bd1a-1884d0056eec",
   "metadata": {},
   "outputs": [],
   "source": [
    "def get_fundamental_data(ticker):\n",
    "    \"\"\"\n",
    "    Fetch the most recent fundamental data for the ticker (e.g., quarterly updates).\n",
    "    \"\"\"\n",
    "    stock = yf.Ticker(ticker)\n",
    "    fundamentals = stock.info\n",
    "    \n",
    "    fundamental_data = {\n",
    "        'P/E Ratio': fundamentals.get('trailingPE'),\n",
    "        'EPS': fundamentals.get('trailingEps'),\n",
    "        'Dividend Yield': fundamentals.get('dividendYield'),\n",
    "        'Price-to-Book': fundamentals.get('priceToBook'),\n",
    "        'Market Cap': fundamentals.get('marketCap'),\n",
    "        'Revenue': fundamentals.get('totalRevenue'),\n",
    "        'Net Income': fundamentals.get('netIncomeToCommon')\n",
    "    }\n",
    "    return fundamental_data"
   ]
  },
  {
   "cell_type": "code",
   "execution_count": 46,
   "id": "9e5646c3-9f9e-408c-ba37-36a72098c422",
   "metadata": {},
   "outputs": [
    {
     "name": "stderr",
     "output_type": "stream",
     "text": [
      "C:\\Users\\aless\\AppData\\Local\\Programs\\Python\\Python312\\Lib\\site-packages\\yfinance\\utils.py:775: FutureWarning: The 'unit' keyword in TimedeltaIndex construction is deprecated and will be removed in a future version. Use pd.to_timedelta instead.\n",
      "  df.index += _pd.TimedeltaIndex(dst_error_hours, 'h')\n",
      "[*********************100%%**********************]  1 of 1 completed"
     ]
    },
    {
     "name": "stdout",
     "output_type": "stream",
     "text": [
      "Fused Data:\n",
      "          Date        Open        High         Low       Close   Adj Close  \\\n",
      "0  2024-06-26  211.500000  214.860001  210.639999  213.250000  213.003448   \n",
      "1  2024-06-27  214.690002  215.740005  212.350006  214.100006  213.852478   \n",
      "2  2024-06-28  215.770004  216.070007  210.300003  210.619995  210.376480   \n",
      "3  2024-07-01  212.089996  217.509995  211.919998  216.750000  216.499405   \n",
      "4  2024-07-02  216.149994  220.380005  215.100006  220.270004  220.015335   \n",
      "..        ...         ...         ...         ...         ...         ...   \n",
      "59 2024-09-19  224.990005  229.820007  224.630005  228.869995  228.869995   \n",
      "60 2024-09-20  229.970001  233.089996  227.619995  228.199997  228.199997   \n",
      "61 2024-09-23  227.339996  229.449997  225.809998  226.470001  226.470001   \n",
      "62 2024-09-24  228.649994  229.350006  225.729996  227.369995  227.369995   \n",
      "63 2024-09-25  224.929993  227.289993  224.020004  226.369995  226.369995   \n",
      "\n",
      "       Volume  P/E Ratio   EPS  Dividend Yield  Price-to-Book     Market Cap  \\\n",
      "0    66213200  34.664635  6.56          0.0044       51.89411  3457412235264   \n",
      "1    49772700  34.664635  6.56          0.0044       51.89411  3457412235264   \n",
      "2    82542700  34.664635  6.56          0.0044       51.89411  3457412235264   \n",
      "3    60402900  34.664635  6.56          0.0044       51.89411  3457412235264   \n",
      "4    58046200  34.664635  6.56          0.0044       51.89411  3457412235264   \n",
      "..        ...        ...   ...             ...            ...            ...   \n",
      "59   66781300  34.664635  6.56          0.0044       51.89411  3457412235264   \n",
      "60  318679900  34.664635  6.56          0.0044       51.89411  3457412235264   \n",
      "61   54146000  34.664635  6.56          0.0044       51.89411  3457412235264   \n",
      "62   43556100  34.664635  6.56          0.0044       51.89411  3457412235264   \n",
      "63   42099400  34.664635  6.56          0.0044       51.89411  3457412235264   \n",
      "\n",
      "         Revenue    Net Income  \n",
      "0   385603010560  101956001792  \n",
      "1   385603010560  101956001792  \n",
      "2   385603010560  101956001792  \n",
      "3   385603010560  101956001792  \n",
      "4   385603010560  101956001792  \n",
      "..           ...           ...  \n",
      "59  385603010560  101956001792  \n",
      "60  385603010560  101956001792  \n",
      "61  385603010560  101956001792  \n",
      "62  385603010560  101956001792  \n",
      "63  385603010560  101956001792  \n",
      "\n",
      "[64 rows x 14 columns]\n"
     ]
    },
    {
     "name": "stderr",
     "output_type": "stream",
     "text": [
      "\n"
     ]
    }
   ],
   "source": [
    "def fuse_price_and_fundamental_data(price_data, fundamental_data):\n",
    "    \"\"\"\n",
    "    Add fundamental data to the daily price data DataFrame, so every row has the same fundamental values.\n",
    "    \"\"\"\n",
    "    # Convert the fundamental data dictionary into a DataFrame with the same index as the price data\n",
    "    fundamentals_df = pd.DataFrame([fundamental_data] * len(price_data), index=price_data.index)\n",
    "    \n",
    "    # Concatenate the price data and fundamental data\n",
    "    fused_data = pd.concat([price_data, fundamentals_df], axis=1)\n",
    "    \n",
    "    return fused_data\n",
    "\n",
    "# Example: Fetch daily price data and quarterly fundamental data\n",
    "ticker = 'AAPL'\n",
    "start_date = '2024-06-26'\n",
    "end_date = '2024-09-26'\n",
    "\n",
    "# Step 1: Fetch daily price data\n",
    "price_data = collect_stock_data(ticker, start_date, end_date)\n",
    "\n",
    "# Step 2: Fetch quarterly fundamental data (latest available)\n",
    "fundamental_data = get_fundamental_data(ticker)\n",
    "\n",
    "# Step 3: Fuse daily price data with fundamental data\n",
    "fused_data = fuse_price_and_fundamental_data(price_data, fundamental_data)\n",
    "\n",
    "print(\"Fused Data:\\n\", fused_data)"
   ]
  },
  {
   "cell_type": "code",
   "execution_count": 10,
   "id": "ad2d13b3-1103-464e-aa63-8e795c351864",
   "metadata": {},
   "outputs": [
    {
     "data": {
      "image/png": "[encoded data removed]",
      "text/plain": [
       "<Figure size 1000x600 with 1 Axes>"
      ]
     },
     "metadata": {},
     "output_type": "display_data"
    },
    {
     "ename": "NameError",
     "evalue": "name 'talib' is not defined",
     "output_type": "error",
     "traceback": [
      "\u001b[1;31m---------------------------------------------------------------------------\u001b[0m",
      "\u001b[1;31mNameError\u001b[0m                                 Traceback (most recent call last)",
      "Cell \u001b[1;32mIn[10], line 5\u001b[0m\n\u001b[0;32m      2\u001b[0m stock_data \u001b[38;5;241m=\u001b[39m pd\u001b[38;5;241m.\u001b[39mread_csv(\u001b[38;5;124m'\u001b[39m\u001b[38;5;124mData/AAPL_historical_data.csv\u001b[39m\u001b[38;5;124m'\u001b[39m, index_col\u001b[38;5;241m=\u001b[39m\u001b[38;5;124m'\u001b[39m\u001b[38;5;124mDate\u001b[39m\u001b[38;5;124m'\u001b[39m, parse_dates\u001b[38;5;241m=\u001b[39m\u001b[38;5;28;01mTrue\u001b[39;00m)\n\u001b[0;32m      4\u001b[0m \u001b[38;5;66;03m# Call the function to inspect and analyze the data\u001b[39;00m\n\u001b[1;32m----> 5\u001b[0m \u001b[43minspect_and_analyze_data\u001b[49m\u001b[43m(\u001b[49m\u001b[43mstock_data\u001b[49m\u001b[43m)\u001b[49m\n",
      "Cell \u001b[1;32mIn[9], line 18\u001b[0m, in \u001b[0;36minspect_and_analyze_data\u001b[1;34m(stock_data)\u001b[0m\n\u001b[0;32m     15\u001b[0m plt\u001b[38;5;241m.\u001b[39mshow()\n\u001b[0;32m     17\u001b[0m \u001b[38;5;66;03m# Step 2: Calculate and Plot Moving Averages (MA)\u001b[39;00m\n\u001b[1;32m---> 18\u001b[0m stock_data[\u001b[38;5;124m'\u001b[39m\u001b[38;5;124mEMA20\u001b[39m\u001b[38;5;124m'\u001b[39m] \u001b[38;5;241m=\u001b[39m \u001b[43mtalib\u001b[49m\u001b[38;5;241m.\u001b[39mEMA(stock_data[\u001b[38;5;124m'\u001b[39m\u001b[38;5;124mClose\u001b[39m\u001b[38;5;124m'\u001b[39m], timeperiod\u001b[38;5;241m=\u001b[39m\u001b[38;5;241m20\u001b[39m)\n\u001b[0;32m     19\u001b[0m stock_data[\u001b[38;5;124m'\u001b[39m\u001b[38;5;124mEMA50\u001b[39m\u001b[38;5;124m'\u001b[39m] \u001b[38;5;241m=\u001b[39m talib\u001b[38;5;241m.\u001b[39mEMA(stock_data[\u001b[38;5;124m'\u001b[39m\u001b[38;5;124mClose\u001b[39m\u001b[38;5;124m'\u001b[39m], timeperiod\u001b[38;5;241m=\u001b[39m\u001b[38;5;241m50\u001b[39m)\n\u001b[0;32m     21\u001b[0m plt\u001b[38;5;241m.\u001b[39mfigure(figsize\u001b[38;5;241m=\u001b[39m(\u001b[38;5;241m10\u001b[39m, \u001b[38;5;241m6\u001b[39m))\n",
      "\u001b[1;31mNameError\u001b[0m: name 'talib' is not defined"
     ]
    }
   ],
   "source": [
    "# Assuming you have already collected stock data using the previous steps\n",
    "stock_data = pd.read_csv('Data/AAPL_historical_data.csv', index_col='Date', parse_dates=True)\n",
    "\n",
    "# Call the function to inspect and analyze the data\n",
    "inspect_and_analyze_data(stock_data)"
   ]
  },
  {
   "cell_type": "code",
   "execution_count": 49,
   "id": "c93b076c-ee72-40bf-af9e-440d89ca8aab",
   "metadata": {},
   "outputs": [
    {
     "ename": "KeyError",
     "evalue": "'observations'",
     "output_type": "error",
     "traceback": [
      "\u001b[1;31m---------------------------------------------------------------------------\u001b[0m",
      "\u001b[1;31mKeyError\u001b[0m                                  Traceback (most recent call last)",
      "Cell \u001b[1;32mIn[49], line 32\u001b[0m\n\u001b[0;32m     29\u001b[0m api_key \u001b[38;5;241m=\u001b[39m \u001b[38;5;124m'\u001b[39m\u001b[38;5;124myour_fred_api_key\u001b[39m\u001b[38;5;124m'\u001b[39m\n\u001b[0;32m     31\u001b[0m \u001b[38;5;66;03m# Interest rates (10-year Treasury Yield)\u001b[39;00m\n\u001b[1;32m---> 32\u001b[0m treasury_yield_df \u001b[38;5;241m=\u001b[39m \u001b[43mget_fred_data\u001b[49m\u001b[43m(\u001b[49m\u001b[38;5;124;43m'\u001b[39;49m\u001b[38;5;124;43mDGS10\u001b[39;49m\u001b[38;5;124;43m'\u001b[39;49m\u001b[43m,\u001b[49m\u001b[43m \u001b[49m\u001b[43mapi_key\u001b[49m\u001b[43m)\u001b[49m\n\u001b[0;32m     34\u001b[0m \u001b[38;5;66;03m# Inflation rate (CPI)\u001b[39;00m\n\u001b[0;32m     35\u001b[0m inflation_rate_df \u001b[38;5;241m=\u001b[39m get_fred_data(\u001b[38;5;124m'\u001b[39m\u001b[38;5;124mCPIAUCSL\u001b[39m\u001b[38;5;124m'\u001b[39m, api_key)\n",
      "Cell \u001b[1;32mIn[49], line 7\u001b[0m, in \u001b[0;36mget_fred_data\u001b[1;34m(series_id, api_key)\u001b[0m\n\u001b[0;32m      5\u001b[0m url \u001b[38;5;241m=\u001b[39m \u001b[38;5;124mf\u001b[39m\u001b[38;5;124m'\u001b[39m\u001b[38;5;124mhttps://api.stlouisfed.org/fred/series/observations?series_id=\u001b[39m\u001b[38;5;132;01m{\u001b[39;00mseries_id\u001b[38;5;132;01m}\u001b[39;00m\u001b[38;5;124m&api_key=\u001b[39m\u001b[38;5;132;01m{\u001b[39;00mapi_key\u001b[38;5;132;01m}\u001b[39;00m\u001b[38;5;124m&file_type=json\u001b[39m\u001b[38;5;124m'\u001b[39m\n\u001b[0;32m      6\u001b[0m response \u001b[38;5;241m=\u001b[39m requests\u001b[38;5;241m.\u001b[39mget(url)\n\u001b[1;32m----> 7\u001b[0m data \u001b[38;5;241m=\u001b[39m \u001b[43mresponse\u001b[49m\u001b[38;5;241;43m.\u001b[39;49m\u001b[43mjson\u001b[49m\u001b[43m(\u001b[49m\u001b[43m)\u001b[49m\u001b[43m[\u001b[49m\u001b[38;5;124;43m'\u001b[39;49m\u001b[38;5;124;43mobservations\u001b[39;49m\u001b[38;5;124;43m'\u001b[39;49m\u001b[43m]\u001b[49m\n\u001b[0;32m      8\u001b[0m df \u001b[38;5;241m=\u001b[39m pd\u001b[38;5;241m.\u001b[39mDataFrame(data)\n\u001b[0;32m      9\u001b[0m df[\u001b[38;5;124m'\u001b[39m\u001b[38;5;124mdate\u001b[39m\u001b[38;5;124m'\u001b[39m] \u001b[38;5;241m=\u001b[39m pd\u001b[38;5;241m.\u001b[39mto_datetime(df[\u001b[38;5;124m'\u001b[39m\u001b[38;5;124mdate\u001b[39m\u001b[38;5;124m'\u001b[39m])\n",
      "\u001b[1;31mKeyError\u001b[0m: 'observations'"
     ]
    }
   ],
   "source": [
    "def get_fred_data(series_id, api_key):\n",
    "    \"\"\"\n",
    "    Fetch macroeconomic data from FRED.\n",
    "    \"\"\"\n",
    "    url = f'https://api.stlouisfed.org/fred/series/observations?series_id={series_id}&api_key={api_key}&file_type=json'\n",
    "    response = requests.get(url)\n",
    "    data = response.json()['observations']\n",
    "    df = pd.DataFrame(data)\n",
    "    df['date'] = pd.to_datetime(df['date'])\n",
    "    df.set_index('date', inplace=True)\n",
    "    df['value'] = pd.to_numeric(df['value'])\n",
    "    return df\n",
    "\n",
    "def get_vix_data(start_date, end_date):\n",
    "    \"\"\"\n",
    "    Fetch VIX (Volatility Index) data from Yahoo Finance.\n",
    "    \"\"\"\n",
    "    vix_data = yf.download('^VIX', start=start_date, end=end_date)\n",
    "    return vix_data\n",
    "\n",
    "def get_oil_prices_data(start_date, end_date):\n",
    "    \"\"\"\n",
    "    Fetch WTI Crude Oil Prices from Yahoo Finance.\n",
    "    \"\"\"\n",
    "    oil_data = yf.download('CL=F', start=start_date, end=end_date)\n",
    "    return oil_data\n",
    "\n",
    "# Example usage for FRED and Yahoo Finance:\n",
    "api_key = 'your_fred_api_key'\n",
    "\n",
    "# Interest rates (10-year Treasury Yield)\n",
    "treasury_yield_df = get_fred_data('DGS10', api_key)\n",
    "\n",
    "# Inflation rate (CPI)\n",
    "inflation_rate_df = get_fred_data('CPIAUCSL', api_key)\n",
    "\n",
    "# Unemployment rate\n",
    "unemployment_rate_df = get_fred_data('UNRATE', api_key)\n",
    "\n",
    "# GDP growth rate\n",
    "gdp_growth_df = get_fred_data('A191RL1Q225SBEA', api_key)\n",
    "\n",
    "# VIX (Volatility Index)\n",
    "vix_data = get_vix_data('2010-01-01', '2023-01-01')\n",
    "\n",
    "# Oil prices (WTI Crude Oil)\n",
    "oil_data = get_oil_prices_data('2010-01-01', '2023-01-01')"
   ]
  },
  {
   "cell_type": "code",
   "execution_count": null,
   "id": "6f24dfc6-cdb0-425b-bbff-ba6caad37084",
   "metadata": {},
   "outputs": [],
   "source": [
    "def forward_fill_macro_data(macro_data):\n",
    "    \"\"\"\n",
    "    Forward-fill macroeconomic data for daily alignment.\n",
    "    \"\"\"\n",
    "    return macro_data.reindex(pd.date_range(macro_data.index.min(), macro_data.index.max(), freq='D')).ffill()\n",
    "\n",
    "# Forward fill the macroeconomic data\n",
    "treasury_yield_df = forward_fill_macro_data(treasury_yield_df)\n",
    "inflation_rate_df = forward_fill_macro_data(inflation_rate_df)\n",
    "unemployment_rate_df = forward_fill_macro_data(unemployment_rate_df)\n",
    "gdp_growth_df = forward_fill_macro_data(gdp_growth_df)\n",
    "vix_data = forward_fill_macro_data(vix_data)\n",
    "oil_data = forward_fill_macro_data(oil_data)"
   ]
  },
  {
   "cell_type": "code",
   "execution_count": null,
   "id": "9d534754-545f-41d8-9a30-3bbd8238f777",
   "metadata": {},
   "outputs": [],
   "source": [
    "def merge_macro_with_stock(fused_data, macro_data, column_name):\n",
    "    \"\"\"\n",
    "    Merge a single macroeconomic dataset with the stock data.\n",
    "    \n",
    "    Parameters:\n",
    "        fused_data (pd.DataFrame): The historical stock and fundamental dataset.\n",
    "        macro_data (pd.DataFrame): The macroeconomic data to merge.\n",
    "        column_name (str): Name for the new column in the merged dataset.\n",
    "        \n",
    "    Returns:\n",
    "        pd.DataFrame: Fused dataset with the macroeconomic data added.\n",
    "    \"\"\"\n",
    "    # Ensure macro data has the correct column name for merging\n",
    "    macro_data = macro_data.rename(columns={'value': column_name})\n",
    "    \n",
    "    # Merge macro data with stock data on the index (date)\n",
    "    merged_data = pd.merge(fused_data, macro_data[[column_name]], how='left', left_index=True, right_index=True)\n",
    "    \n",
    "    return merged_data\n",
    "\n",
    "# Merge each macroeconomic dataset\n",
    "fused_data = merge_macro_with_stock(fused_data, treasury_yield_df, 'Interest_Rates')\n",
    "fused_data = merge_macro_with_stock(fused_data, inflation_rate_df, 'Inflation_Rate')\n",
    "fused_data = merge_macro_with_stock(fused_data, unemployment_rate_df, 'Unemployment_Rate')\n",
    "fused_data = merge_macro_with_stock(fused_data, gdp_growth_df, 'GDP_Growth')\n",
    "fused_data = merge_macro_with_stock(fused_data, vix_data['Close'], 'VIX')  # VIX data comes from Yahoo Finance\n",
    "fused_data = merge_macro_with_stock(fused_data, oil_data['Close'], 'Oil_Prices')  # Oil data from Yahoo Finance\n",
    "\n",
    "# Show the final merged dataset with stock, fundamental, and macro data\n",
    "print(fused_data.head())"
   ]
  },
  {
   "cell_type": "code",
   "execution_count": null,
   "id": "16e7668d-0fb9-4e2a-8f4e-24ca8d3e9069",
   "metadata": {},
   "outputs": [],
   "source": [
    "def calculate_fibonacci_levels(df, window=100):\n",
    "    \"\"\"\n",
    "    Calculate Fibonacci retracement levels based on the high and low points over a rolling window.\n",
    "    \n",
    "    Parameters:\n",
    "        df (pd.DataFrame): DataFrame containing stock price data.\n",
    "        window (int): Rolling window size (e.g., 100 days).\n",
    "    \n",
    "    Returns:\n",
    "        pd.DataFrame: DataFrame with Fibonacci levels (23.6%, 38.2%, 50%, 61.8%, 100%) for each day.\n",
    "    \"\"\"\n",
    "    high = df['High'].rolling(window=window).max()\n",
    "    low = df['Low'].rolling(window=window).min()\n",
    "    \n",
    "    # Fibonacci retracement levels\n",
    "    fib_236 = high - 0.236 * (high - low)\n",
    "    fib_382 = high - 0.382 * (high - low)\n",
    "    fib_50 = high - 0.5 * (high - low)\n",
    "    fib_618 = high - 0.618 * (high - low)\n",
    "    fib_100 = high\n",
    "    \n",
    "    fib_df = pd.DataFrame({\n",
    "        'Fib_23.6%': fib_236,\n",
    "        'Fib_38.2%': fib_382,\n",
    "        'Fib_50%': fib_50,\n",
    "        'Fib_61.8%': fib_618,\n",
    "        'Fib_100%': fib_100\n",
    "    }, index=df.index)\n",
    "    \n",
    "    return fib_df\n",
    "\n",
    "# Example usage for calculating Fibonacci levels over a 100-day window\n",
    "fibonacci_levels_df = calculate_fibonacci_levels(fused_data, window=100)\n",
    "\n",
    "# Merge the Fibonacci levels into the fused dataset\n",
    "fused_data = pd.concat([fused_data, fibonacci_levels_df], axis=1)\n",
    "\n",
    "print(fused_data[['Close', 'Fib_23.6%', 'Fib_38.2%', 'Fib_50%', 'Fib_61.8%', 'Fib_100%']].head())"
   ]
  }
 ],
 "metadata": {
  "kernelspec": {
   "display_name": "Python 3 (ipykernel)",
   "language": "python",
   "name": "python3"
  },
  "language_info": {
   "codemirror_mode": {
    "name": "ipython",
    "version": 3
   },
   "file_extension": ".py",
   "mimetype": "text/x-python",
   "name": "python",
   "nbconvert_exporter": "python",
   "pygments_lexer": "ipython3",
   "version": "3.12.1"
  }
 },
 "nbformat": 4,
 "nbformat_minor": 5
}
