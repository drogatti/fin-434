{
 "cells": [
  {
   "cell_type": "code",
   "execution_count": null,
   "id": "a7137bfc-02b0-4859-88b5-e8d680652eb3",
   "metadata": {},
   "outputs": [],
   "source": [
    "#Print Hello World"
   ]
  },
  {
   "cell_type": "code",
   "execution_count": null,
   "id": "f815953c-c65a-4560-b567-fbe20ad324d3",
   "metadata": {},
   "outputs": [],
   "source": [
    "print(\"Hello World\")"
   ]
  }
 ],
 "metadata": {
  "kernelspec": {
   "display_name": "Python 3 (ipykernel)",
   "language": "python",
   "name": "python3"
  },
  "language_info": {
   "codemirror_mode": {
    "name": "ipython",
    "version": 3
   },
   "file_extension": ".py",
   "mimetype": "text/x-python",
   "name": "python",
   "nbconvert_exporter": "python",
   "pygments_lexer": "ipython3",
   "version": "3.12.1"
  }
 },
 "nbformat": 4,
 "nbformat_minor": 5
}
